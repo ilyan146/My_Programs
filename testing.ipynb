{
 "cells": [
  {
   "cell_type": "code",
   "execution_count": 10,
   "metadata": {},
   "outputs": [
    {
     "name": "stdout",
     "output_type": "stream",
     "text": [
      "1\n"
     ]
    }
   ],
   "source": [
    "mylist = [\"Haleema\",\"Hadhija\",\"Vaseelath\"]\n",
    "mylist_i =list(enumerate(mylist))\n",
    "print(mylist_i[1][0])"
   ]
  },
  {
   "cell_type": "code",
   "execution_count": 15,
   "metadata": {},
   "outputs": [
    {
     "name": "stdout",
     "output_type": "stream",
     "text": [
      "1.Ben\n",
      "2.John\n",
      "3.Sen\n"
     ]
    }
   ],
   "source": [
    "list1 = [\"sen\",\"ben\",\"john\"]\n",
    "list1.sort(reverse=False)\n",
    "for index,i in enumerate(list1):\n",
    "    row = f\"{index+1}.{i.capitalize()}\"\n",
    "    print(row)\n"
   ]
  },
  {
   "cell_type": "code",
   "execution_count": 18,
   "metadata": {},
   "outputs": [
    {
     "name": "stdout",
     "output_type": "stream",
     "text": [
      "0-Document.txt\n",
      "1-Report.txt\n",
      "2-Presentation.txt\n"
     ]
    }
   ],
   "source": [
    "filenames = ['document', 'report', 'presentation']\n",
    "\n",
    "for index,i in enumerate(filenames):\n",
    "    row = f\"{index}-{i.capitalize()}.txt\"\n",
    "    print(row)\n",
    "    "
   ]
  },
  {
   "cell_type": "code",
   "execution_count": 19,
   "metadata": {},
   "outputs": [
    {
     "name": "stdout",
     "output_type": "stream",
     "text": [
      "You chose 100.122.133.105\n"
     ]
    }
   ],
   "source": [
    "ips = ['100.122.133.105', '100.122.133.111']\n",
    "\n",
    "Ip = int(input(\"Enter the index of the IP you want: \"))\n",
    "print(\"You chose\",ips[Ip])"
   ]
  },
  {
   "cell_type": "code",
   "execution_count": 21,
   "metadata": {},
   "outputs": [
    {
     "name": "stdout",
     "output_type": "stream",
     "text": [
      "John\n",
      "Lin\n"
     ]
    }
   ],
   "source": [
    "buttons = [('John', 'Sen', 'Morro'), ('Lin', 'Ajay', 'Filip')]\n",
    "for first, second, third in buttons:\n",
    "    print(first)"
   ]
  },
  {
   "cell_type": "code",
   "execution_count": null,
   "metadata": {},
   "outputs": [],
   "source": [
    "todos = []\n",
    "\n",
    "while True:\n",
    "    user_action = input(\"Type add, show, edit, complete or exit: \").strip()\n",
    "    match user_action:\n",
    "        case \"add\":\n",
    "            todo = input(\"Enter a todo: \")\n",
    "            todos.append(todo)\n",
    "        case \"show\":\n",
    "            for index,i in enumerate(todos):\n",
    "                i = i.capitalize()\n",
    "                row = f\"{index+1}-{i}\"\n",
    "                print(row)\n",
    "        case \"edit\":\n",
    "            number = int(input(\"Number of todo to edit: \"))\n",
    "            number = number - 1\n",
    "            new_todo = input(\"Enter new to do: \")\n",
    "            todos[number] = new_todo\n",
    "        case \"complete\":\n",
    "            number = int(input(\"Number of todo to complete: \"))\n",
    "            todos.pop(number-1)\n",
    "        case \"exit\":\n",
    "            break\n",
    "\n",
    "print(\"BYE!\")\n",
    "\n"
   ]
  },
  {
   "cell_type": "code",
   "execution_count": 31,
   "metadata": {},
   "outputs": [
    {
     "name": "stdout",
     "output_type": "stream",
     "text": [
      "['The true meaning of obscurity lies underneath the most delicate structures of viscosity. The idea of changing that balance is obscure by itself.']\n"
     ]
    }
   ],
   "source": [
    "new_file = open(\"007 essay.txt\",\"r\")\n",
    "essay = new_file.readlines()\n",
    "print(essay)\n"
   ]
  },
  {
   "cell_type": "code",
   "execution_count": 32,
   "metadata": {},
   "outputs": [
    {
     "name": "stdout",
     "output_type": "stream",
     "text": [
      "The true meaning of obscurity lies underneath the most delicate structures of viscosity. The idea of changing that balance is obscure by itself.\n"
     ]
    }
   ],
   "source": [
    "file1 = open(\"007 essay.txt\",\"r\")\n",
    "content = file1.read()\n",
    "print(content)"
   ]
  },
  {
   "cell_type": "code",
   "execution_count": 29,
   "metadata": {},
   "outputs": [
    {
     "name": "stdout",
     "output_type": "stream",
     "text": [
      "The True Meaning Of Obscurity Lies Underneath The Most Delicate Structures Of Viscosity. The Idea Of Changing That Balance Is Obscure By Itself.\n"
     ]
    }
   ],
   "source": [
    "file = open(\"007 essay.txt\", 'r')\n",
    "content = file.read()\n",
    "print(content.title())"
   ]
  },
  {
   "cell_type": "code",
   "execution_count": 40,
   "metadata": {},
   "outputs": [
    {
     "data": {
      "text/plain": [
       "122"
      ]
     },
     "execution_count": 40,
     "metadata": {},
     "output_type": "execute_result"
    }
   ],
   "source": [
    "file1 = open(\"007 essay.txt\",\"r\")\n",
    "essay1 = file1.read()\n",
    "essay1 = essay1.replace(\" \",\"\")\n",
    "length = len(essay1)\n",
    "length"
   ]
  },
  {
   "cell_type": "code",
   "execution_count": 48,
   "metadata": {},
   "outputs": [],
   "source": [
    "ex3_file = open(\"007 members.txt\",\"r\")\n",
    "content = ex3_file.readlines()\n",
    "ex3_file.close()\n",
    "\n",
    "new_mem = input(\"Add a new member: \")\n",
    "content.append(new_mem + \"\\n\")\n",
    "\n",
    "\n",
    "ex3_file = open(\"007 members.txt\",\"w\")\n",
    "content = ex3_file.writelines(content)\n",
    "ex3_file.close()\n",
    "\n",
    "\n",
    "\n"
   ]
  },
  {
   "attachments": {},
   "cell_type": "markdown",
   "metadata": {},
   "source": [
    "### Day 6 - 007 coding exercises - Ex4"
   ]
  },
  {
   "cell_type": "code",
   "execution_count": 3,
   "metadata": {},
   "outputs": [],
   "source": [
    "contents = [\"Hello\",\"Hello\",\"Hello\"]\n",
    "\n",
    "file_names = [\"text1.txt\",\"text2.txt\",\"text3.txt\"]\n",
    "\n",
    "for i, j in zip(file_names,contents):\n",
    "    file = open(f\"text_files/{i}\",\"w\")\n",
    "    file.write(j)\n",
    "    file.close()"
   ]
  },
  {
   "attachments": {},
   "cell_type": "markdown",
   "metadata": {},
   "source": [
    "### Day 6 - 007 coding exercises - Ex5"
   ]
  },
  {
   "cell_type": "code",
   "execution_count": 11,
   "metadata": {},
   "outputs": [
    {
     "name": "stdout",
     "output_type": "stream",
     "text": [
      "I am a.\n",
      "I am b.\n",
      "I am c.\n"
     ]
    }
   ],
   "source": [
    "file_names1 = [\"007 a.txt\",\"007 b.txt\",\"007 c.txt\"]\n",
    "\n",
    "for i in file_names1:\n",
    "    file = open(f\"text_files/{i}\",\"r\")\n",
    "    content = file.read()\n",
    "    print(content)\n",
    "    \n"
   ]
  },
  {
   "attachments": {},
   "cell_type": "markdown",
   "metadata": {},
   "source": [
    "### Day 7 - Coding Exercises"
   ]
  },
  {
   "cell_type": "code",
   "execution_count": 18,
   "metadata": {},
   "outputs": [
    {
     "name": "stdout",
     "output_type": "stream",
     "text": [
      "['John Smith', 'Jay Santi', 'Eva Kuki']\n"
     ]
    }
   ],
   "source": [
    "names = [\"john smith\", \"jay santi\", \"eva kuki\"]\n",
    "new_names =[]\n",
    "for i in names:\n",
    "    new_names.append(i.title())\n",
    "print(new_names)\n"
   ]
  },
  {
   "cell_type": "code",
   "execution_count": 22,
   "metadata": {},
   "outputs": [
    {
     "data": {
      "text/plain": [
       "['John Smith', 'Jay Santi', 'Eva Kuki']"
      ]
     },
     "execution_count": 22,
     "metadata": {},
     "output_type": "execute_result"
    }
   ],
   "source": [
    "names = [\"john smith\", \"jay santi\", \"eva kuki\"]\n",
    "new_names= [i.title() for i in names]\n",
    "new_names"
   ]
  },
  {
   "cell_type": "code",
   "execution_count": 23,
   "metadata": {},
   "outputs": [
    {
     "data": {
      "text/plain": [
       "[9, 11, 11]"
      ]
     },
     "execution_count": 23,
     "metadata": {},
     "output_type": "execute_result"
    }
   ],
   "source": [
    "usernames = [\"john 1990\", \"alberta1970\", \"magnola2000\"]\n",
    "len1 = [len(i) for i in usernames]\n",
    "len1"
   ]
  },
  {
   "cell_type": "code",
   "execution_count": 27,
   "metadata": {},
   "outputs": [
    {
     "name": "stdout",
     "output_type": "stream",
     "text": [
      "[10.0, 19.1, 20.0]\n"
     ]
    }
   ],
   "source": [
    "user_entries = ['10', '19.1', '20']\n",
    "user_entries = [float(i) for i in user_entries]\n",
    "print(user_entries)"
   ]
  },
  {
   "cell_type": "code",
   "execution_count": 28,
   "metadata": {},
   "outputs": [
    {
     "data": {
      "text/plain": [
       "49.1"
      ]
     },
     "execution_count": 28,
     "metadata": {},
     "output_type": "execute_result"
    }
   ],
   "source": [
    "user_entries = ['10', '19.1', '20']\n",
    "user_entries = [float(i) for i in user_entries]\n",
    "\n",
    "sum1 = sum(user_entries)\n",
    "sum1\n"
   ]
  },
  {
   "cell_type": "code",
   "execution_count": 30,
   "metadata": {},
   "outputs": [
    {
     "name": "stdout",
     "output_type": "stream",
     "text": [
      "[10, 12, 14]\n"
     ]
    }
   ],
   "source": [
    "numbers = [10.1, 12.3, 14.7]\n",
    "numbers = [int(item) for item in numbers]\n",
    "print(numbers)"
   ]
  },
  {
   "attachments": {},
   "cell_type": "markdown",
   "metadata": {},
   "source": [
    "### Experiment"
   ]
  },
  {
   "cell_type": "code",
   "execution_count": 42,
   "metadata": {},
   "outputs": [
    {
     "name": "stdout",
     "output_type": "stream",
     "text": [
      "I am a.\n"
     ]
    }
   ],
   "source": [
    "with open(r\"text_files\\007 a.txt\") as file:\n",
    "    content = file.read()\n",
    "\n",
    "print(content) ## Great!!"
   ]
  },
  {
   "attachments": {},
   "cell_type": "markdown",
   "metadata": {},
   "source": [
    "### Day 8 - Coding Exercises"
   ]
  },
  {
   "cell_type": "code",
   "execution_count": null,
   "metadata": {},
   "outputs": [],
   "source": [
    "## done as a coin flip.py program, refer to it in pycharm!"
   ]
  },
  {
   "attachments": {},
   "cell_type": "markdown",
   "metadata": {},
   "source": [
    "### Day 8 - Bug fix exercise"
   ]
  },
  {
   "cell_type": "code",
   "execution_count": 60,
   "metadata": {},
   "outputs": [
    {
     "name": "stdout",
     "output_type": "stream",
     "text": [
      "head\n",
      "tail\n",
      "head\n",
      "head\n",
      "tail\n",
      "\n",
      "25\n"
     ]
    }
   ],
   "source": [
    "with open(\"Programs\\Coin-flip.txt\", 'r') as file:\n",
    "    content = file.read()\n",
    "print(content)\n",
    "print(len(content))\n",
    "#Take away the read file needs to be stored in variable to do further work on it, not directly inside as file.read()\n",
    "#As it will start from where it finished reading, and will give result of blank text!!"
   ]
  },
  {
   "attachments": {},
   "cell_type": "markdown",
   "metadata": {},
   "source": [
    "### Day 9 - Coding Exercises"
   ]
  },
  {
   "cell_type": "code",
   "execution_count": 64,
   "metadata": {},
   "outputs": [
    {
     "name": "stdout",
     "output_type": "stream",
     "text": [
      "Great password there!\n"
     ]
    }
   ],
   "source": [
    "password = input(\"Enter a new password: \")\n",
    "\n",
    "if len(password) > 7:\n",
    "    print(\"Great password there!\")\n",
    "elif len(password) == 7:\n",
    "    print(\"Password is OK, but not too strong\")\n",
    "else:\n",
    "    print(\"Your password is weak like you!\")"
   ]
  },
  {
   "attachments": {},
   "cell_type": "markdown",
   "metadata": {},
   "source": [
    "### Day 10 - Coding Exercise"
   ]
  },
  {
   "cell_type": "code",
   "execution_count": 70,
   "metadata": {},
   "outputs": [
    {
     "name": "stdout",
     "output_type": "stream",
     "text": [
      "Your total value cannot be zero.\n"
     ]
    }
   ],
   "source": [
    "try:\n",
    "    total_value = float(input(\"Enter a total value: \"))\n",
    "    value = float(input('Enter value: '))\n",
    "    print(f\"That is {(value/total_value)*100}%\")# better to create percentage variable and then print in f string!\n",
    "except ValueError:\n",
    "    print(\"You need to enter a number. Run the Program again.\")\n",
    "except ZeroDivisionError:\n",
    "    print(\"Your total value cannot be zero.\")"
   ]
  },
  {
   "attachments": {},
   "cell_type": "markdown",
   "metadata": {},
   "source": [
    "### Day 11 - Coding Exercise"
   ]
  },
  {
   "cell_type": "code",
   "execution_count": 81,
   "metadata": {},
   "outputs": [
    {
     "name": "stdout",
     "output_type": "stream",
     "text": [
      "Max: 9.7, Min: 9.2\n"
     ]
    }
   ],
   "source": [
    "def get_minmax():\n",
    "    grades = [9.6, 9.2, 9.7]\n",
    "    max_grade = max(grades)\n",
    "    min_grade = min(grades)\n",
    "    message = f\"Max: {max_grade}, Min: {min_grade}\"\n",
    "    return message\n",
    "\n",
    "min_maximum = get_minmax()\n",
    "print(min_maximum)"
   ]
  },
  {
   "attachments": {},
   "cell_type": "markdown",
   "metadata": {},
   "source": [
    "### Day 12 - Coding Exercise"
   ]
  },
  {
   "cell_type": "code",
   "execution_count": 82,
   "metadata": {},
   "outputs": [],
   "source": [
    "def cubic(liter_local):\n",
    "    cubic_meter = liter_local/1000\n",
    "    return cubic_meter"
   ]
  },
  {
   "cell_type": "code",
   "execution_count": 83,
   "metadata": {},
   "outputs": [
    {
     "data": {
      "text/plain": [
       "2.0"
      ]
     },
     "execution_count": 83,
     "metadata": {},
     "output_type": "execute_result"
    }
   ],
   "source": [
    "cubic(2000)"
   ]
  },
  {
   "cell_type": "code",
   "execution_count": 92,
   "metadata": {},
   "outputs": [],
   "source": [
    "def pass_strenght(password):\n",
    "    result = {}\n",
    "    if len(password) >= 8:\n",
    "        result[\"Length\"] = True\n",
    "    else:\n",
    "        result[\"Length\"] = False\n",
    "\n",
    "    digit = False\n",
    "    for i in password:\n",
    "        if i.isdigit():\n",
    "            digit = True\n",
    "    result[\"Number\"] = digit\n",
    "\n",
    "    uppercase = False\n",
    "    for i in password:\n",
    "        if i.isupper():\n",
    "            uppercase = True\n",
    "    result[\"Upper-case\"] = uppercase\n",
    "\n",
    "    if all(result.values()):\n",
    "        return \"Strong Password\"\n",
    "    else:\n",
    "        return \"Weak Password\""
   ]
  },
  {
   "cell_type": "code",
   "execution_count": 93,
   "metadata": {},
   "outputs": [
    {
     "name": "stdout",
     "output_type": "stream",
     "text": [
      "Strong Password\n"
     ]
    }
   ],
   "source": [
    "password_global = input(\"Enter new password: \")\n",
    "print(pass_strenght(password_global))"
   ]
  },
  {
   "attachments": {},
   "cell_type": "markdown",
   "metadata": {},
   "source": [
    "#### Trial on whats been learned"
   ]
  },
  {
   "cell_type": "code",
   "execution_count": 1,
   "metadata": {},
   "outputs": [
    {
     "name": "stdout",
     "output_type": "stream",
     "text": [
      "Nice Password\n"
     ]
    }
   ],
   "source": [
    "result = {}\n",
    "password = input(\"Enter password: \")\n",
    "\n",
    "if len(password)>= 8:\n",
    "    result[\"Lenght\"] = True\n",
    "else:\n",
    "    result[\"Lenght\"] = False\n",
    "\n",
    "result[\"uppercase\"] = False\n",
    "result[\"digit\"] = False\n",
    "\n",
    "for i in password:\n",
    "    if i.isupper():\n",
    "        result[\"uppercase\"] = True\n",
    "    if i.isdigit():\n",
    "        result[\"digit\"] = True\n",
    "\n",
    "if all(result.values()):\n",
    "    print(\"Nice Password\")\n",
    "else:\n",
    "    print(\"Bad Password\")\n",
    "## Great Job It works!!"
   ]
  },
  {
   "attachments": {},
   "cell_type": "markdown",
   "metadata": {},
   "source": [
    "### Day 13 - Coding Exercise"
   ]
  },
  {
   "cell_type": "code",
   "execution_count": 2,
   "metadata": {},
   "outputs": [],
   "source": [
    "def year(year_of_birth, current_year = 2023):\n",
    "    age = current_year - year_of_birth\n",
    "    return age\n"
   ]
  },
  {
   "cell_type": "code",
   "execution_count": 16,
   "metadata": {},
   "outputs": [
    {
     "name": "stdout",
     "output_type": "stream",
     "text": [
      "Your age is 121!\n",
      "You are really old!\n"
     ]
    }
   ],
   "source": [
    "dob = int(input(\"What is your year of birth? \"))\n",
    "\n",
    "age = year(dob)\n",
    "print(f\"Your age is {age}!\")\n",
    "\n",
    "if age > 120:\n",
    "    print(\"You are really old!\")\n",
    "else:\n",
    "    print(\"You still may have a long time to live!\")"
   ]
  },
  {
   "cell_type": "code",
   "execution_count": 27,
   "metadata": {},
   "outputs": [
    {
     "data": {
      "text/plain": [
       "4"
      ]
     },
     "execution_count": 27,
     "metadata": {},
     "output_type": "execute_result"
    }
   ],
   "source": [
    "name1 = input(\"Enter names separated by commas (no spaces): \")\n",
    "\n",
    "def name_len(name1):\n",
    "    name_list = name1.split(\",\")\n",
    "    lenght = len(name_list)\n",
    "    return lenght\n",
    "\n",
    "name_len(name1)"
   ]
  },
  {
   "attachments": {},
   "cell_type": "markdown",
   "metadata": {},
   "source": [
    "### Day 14 - Coding Exercise\n"
   ]
  },
  {
   "cell_type": "code",
   "execution_count": 44,
   "metadata": {},
   "outputs": [],
   "source": [
    "from Programs import functions"
   ]
  },
  {
   "cell_type": "code",
   "execution_count": 47,
   "metadata": {},
   "outputs": [
    {
     "data": {
      "text/plain": [
       "'Liquid'"
      ]
     },
     "execution_count": 47,
     "metadata": {},
     "output_type": "execute_result"
    }
   ],
   "source": [
    "water_temp = input(\"Enter water temperature: \")\n",
    "\n",
    "state = functions.water(water_temp)\n",
    "print(state)"
   ]
  },
  {
   "cell_type": "code",
   "execution_count": null,
   "metadata": {},
   "outputs": [],
   "source": []
  }
 ],
 "metadata": {
  "kernelspec": {
   "display_name": "Python 3",
   "language": "python",
   "name": "python3"
  },
  "language_info": {
   "codemirror_mode": {
    "name": "ipython",
    "version": 3
   },
   "file_extension": ".py",
   "mimetype": "text/x-python",
   "name": "python",
   "nbconvert_exporter": "python",
   "pygments_lexer": "ipython3",
   "version": "3.10.9"
  },
  "orig_nbformat": 4,
  "vscode": {
   "interpreter": {
    "hash": "afb734500600fd355917ca529030176ea0ca205570884b88f2f6f7d791fd3fbe"
   }
  }
 },
 "nbformat": 4,
 "nbformat_minor": 2
}
